{
 "cells": [
  {
   "cell_type": "code",
   "execution_count": 1,
   "metadata": {},
   "outputs": [],
   "source": [
    "import numpy as np # for numerical operations\n",
    "import pandas as pd # for handling input data\n",
    "import matplotlib.pyplot as plt # for data visualization \n",
    "import seaborn as sns # for data visualization\n",
    "data = pd.read_csv('ltrain.csv') # uses pandas library to open a .csv file\n",
    "test_data = pd.read_csv('ltest.csv')\n",
    "sample = pd.read_csv('lsample_submission.csv')"
   ]
  },
  {
   "cell_type": "code",
   "execution_count": 2,
   "metadata": {},
   "outputs": [
    {
     "data": {
      "text/html": [
       "<div>\n",
       "<style scoped>\n",
       "    .dataframe tbody tr th:only-of-type {\n",
       "        vertical-align: middle;\n",
       "    }\n",
       "\n",
       "    .dataframe tbody tr th {\n",
       "        vertical-align: top;\n",
       "    }\n",
       "\n",
       "    .dataframe thead th {\n",
       "        text-align: right;\n",
       "    }\n",
       "</style>\n",
       "<table border=\"1\" class=\"dataframe\">\n",
       "  <thead>\n",
       "    <tr style=\"text-align: right;\">\n",
       "      <th></th>\n",
       "      <th>danceability</th>\n",
       "      <th>energy</th>\n",
       "      <th>key</th>\n",
       "      <th>loudness</th>\n",
       "      <th>mode</th>\n",
       "      <th>speechiness</th>\n",
       "      <th>acousticness</th>\n",
       "      <th>instrumentalness</th>\n",
       "      <th>liveness</th>\n",
       "      <th>valence</th>\n",
       "      <th>tempo</th>\n",
       "      <th>duration_ms</th>\n",
       "      <th>time_signature</th>\n",
       "      <th>genre_label</th>\n",
       "    </tr>\n",
       "  </thead>\n",
       "  <tbody>\n",
       "    <tr>\n",
       "      <th>0</th>\n",
       "      <td>0.702</td>\n",
       "      <td>0.701</td>\n",
       "      <td>1</td>\n",
       "      <td>-8.724</td>\n",
       "      <td>1</td>\n",
       "      <td>0.0769</td>\n",
       "      <td>0.001560</td>\n",
       "      <td>0.9220</td>\n",
       "      <td>0.1120</td>\n",
       "      <td>0.2190</td>\n",
       "      <td>128.001</td>\n",
       "      <td>408750</td>\n",
       "      <td>4</td>\n",
       "      <td>1</td>\n",
       "    </tr>\n",
       "    <tr>\n",
       "      <th>1</th>\n",
       "      <td>0.875</td>\n",
       "      <td>0.907</td>\n",
       "      <td>4</td>\n",
       "      <td>-11.434</td>\n",
       "      <td>0</td>\n",
       "      <td>0.1660</td>\n",
       "      <td>0.016600</td>\n",
       "      <td>0.0000</td>\n",
       "      <td>0.3600</td>\n",
       "      <td>0.7430</td>\n",
       "      <td>188.010</td>\n",
       "      <td>340133</td>\n",
       "      <td>4</td>\n",
       "      <td>0</td>\n",
       "    </tr>\n",
       "    <tr>\n",
       "      <th>2</th>\n",
       "      <td>0.788</td>\n",
       "      <td>0.620</td>\n",
       "      <td>1</td>\n",
       "      <td>-8.117</td>\n",
       "      <td>1</td>\n",
       "      <td>0.0522</td>\n",
       "      <td>0.000009</td>\n",
       "      <td>0.8910</td>\n",
       "      <td>0.0792</td>\n",
       "      <td>0.0554</td>\n",
       "      <td>128.008</td>\n",
       "      <td>371148</td>\n",
       "      <td>4</td>\n",
       "      <td>1</td>\n",
       "    </tr>\n",
       "    <tr>\n",
       "      <th>3</th>\n",
       "      <td>0.739</td>\n",
       "      <td>0.872</td>\n",
       "      <td>11</td>\n",
       "      <td>-4.059</td>\n",
       "      <td>0</td>\n",
       "      <td>0.3330</td>\n",
       "      <td>0.021700</td>\n",
       "      <td>0.0000</td>\n",
       "      <td>0.2600</td>\n",
       "      <td>0.6840</td>\n",
       "      <td>190.168</td>\n",
       "      <td>238746</td>\n",
       "      <td>4</td>\n",
       "      <td>0</td>\n",
       "    </tr>\n",
       "    <tr>\n",
       "      <th>4</th>\n",
       "      <td>0.796</td>\n",
       "      <td>0.922</td>\n",
       "      <td>9</td>\n",
       "      <td>-8.882</td>\n",
       "      <td>0</td>\n",
       "      <td>0.1190</td>\n",
       "      <td>0.003780</td>\n",
       "      <td>0.8740</td>\n",
       "      <td>0.1100</td>\n",
       "      <td>0.2510</td>\n",
       "      <td>130.011</td>\n",
       "      <td>341038</td>\n",
       "      <td>3</td>\n",
       "      <td>1</td>\n",
       "    </tr>\n",
       "    <tr>\n",
       "      <th>...</th>\n",
       "      <td>...</td>\n",
       "      <td>...</td>\n",
       "      <td>...</td>\n",
       "      <td>...</td>\n",
       "      <td>...</td>\n",
       "      <td>...</td>\n",
       "      <td>...</td>\n",
       "      <td>...</td>\n",
       "      <td>...</td>\n",
       "      <td>...</td>\n",
       "      <td>...</td>\n",
       "      <td>...</td>\n",
       "      <td>...</td>\n",
       "      <td>...</td>\n",
       "    </tr>\n",
       "    <tr>\n",
       "      <th>4782</th>\n",
       "      <td>0.596</td>\n",
       "      <td>0.973</td>\n",
       "      <td>11</td>\n",
       "      <td>-5.151</td>\n",
       "      <td>0</td>\n",
       "      <td>0.0706</td>\n",
       "      <td>0.000003</td>\n",
       "      <td>0.8690</td>\n",
       "      <td>0.0704</td>\n",
       "      <td>0.1110</td>\n",
       "      <td>139.995</td>\n",
       "      <td>609867</td>\n",
       "      <td>4</td>\n",
       "      <td>1</td>\n",
       "    </tr>\n",
       "    <tr>\n",
       "      <th>4783</th>\n",
       "      <td>0.736</td>\n",
       "      <td>0.848</td>\n",
       "      <td>1</td>\n",
       "      <td>-11.012</td>\n",
       "      <td>0</td>\n",
       "      <td>0.0428</td>\n",
       "      <td>0.009070</td>\n",
       "      <td>0.9080</td>\n",
       "      <td>0.0737</td>\n",
       "      <td>0.0391</td>\n",
       "      <td>128.006</td>\n",
       "      <td>469949</td>\n",
       "      <td>4</td>\n",
       "      <td>1</td>\n",
       "    </tr>\n",
       "    <tr>\n",
       "      <th>4784</th>\n",
       "      <td>0.654</td>\n",
       "      <td>0.750</td>\n",
       "      <td>8</td>\n",
       "      <td>-7.509</td>\n",
       "      <td>0</td>\n",
       "      <td>0.1050</td>\n",
       "      <td>0.244000</td>\n",
       "      <td>0.0178</td>\n",
       "      <td>0.1670</td>\n",
       "      <td>0.5570</td>\n",
       "      <td>185.546</td>\n",
       "      <td>272507</td>\n",
       "      <td>4</td>\n",
       "      <td>0</td>\n",
       "    </tr>\n",
       "    <tr>\n",
       "      <th>4785</th>\n",
       "      <td>0.745</td>\n",
       "      <td>0.630</td>\n",
       "      <td>1</td>\n",
       "      <td>-6.474</td>\n",
       "      <td>1</td>\n",
       "      <td>0.2120</td>\n",
       "      <td>0.016200</td>\n",
       "      <td>0.0000</td>\n",
       "      <td>0.4840</td>\n",
       "      <td>0.5100</td>\n",
       "      <td>193.918</td>\n",
       "      <td>165793</td>\n",
       "      <td>4</td>\n",
       "      <td>0</td>\n",
       "    </tr>\n",
       "    <tr>\n",
       "      <th>4786</th>\n",
       "      <td>0.571</td>\n",
       "      <td>0.834</td>\n",
       "      <td>8</td>\n",
       "      <td>-12.281</td>\n",
       "      <td>0</td>\n",
       "      <td>0.0494</td>\n",
       "      <td>0.032100</td>\n",
       "      <td>0.8440</td>\n",
       "      <td>0.2990</td>\n",
       "      <td>0.1720</td>\n",
       "      <td>132.994</td>\n",
       "      <td>393383</td>\n",
       "      <td>4</td>\n",
       "      <td>1</td>\n",
       "    </tr>\n",
       "  </tbody>\n",
       "</table>\n",
       "<p>4787 rows × 14 columns</p>\n",
       "</div>"
      ],
      "text/plain": [
       "      danceability  energy  key  loudness  mode  speechiness  acousticness  \\\n",
       "0            0.702   0.701    1    -8.724     1       0.0769      0.001560   \n",
       "1            0.875   0.907    4   -11.434     0       0.1660      0.016600   \n",
       "2            0.788   0.620    1    -8.117     1       0.0522      0.000009   \n",
       "3            0.739   0.872   11    -4.059     0       0.3330      0.021700   \n",
       "4            0.796   0.922    9    -8.882     0       0.1190      0.003780   \n",
       "...            ...     ...  ...       ...   ...          ...           ...   \n",
       "4782         0.596   0.973   11    -5.151     0       0.0706      0.000003   \n",
       "4783         0.736   0.848    1   -11.012     0       0.0428      0.009070   \n",
       "4784         0.654   0.750    8    -7.509     0       0.1050      0.244000   \n",
       "4785         0.745   0.630    1    -6.474     1       0.2120      0.016200   \n",
       "4786         0.571   0.834    8   -12.281     0       0.0494      0.032100   \n",
       "\n",
       "      instrumentalness  liveness  valence    tempo  duration_ms  \\\n",
       "0               0.9220    0.1120   0.2190  128.001       408750   \n",
       "1               0.0000    0.3600   0.7430  188.010       340133   \n",
       "2               0.8910    0.0792   0.0554  128.008       371148   \n",
       "3               0.0000    0.2600   0.6840  190.168       238746   \n",
       "4               0.8740    0.1100   0.2510  130.011       341038   \n",
       "...                ...       ...      ...      ...          ...   \n",
       "4782            0.8690    0.0704   0.1110  139.995       609867   \n",
       "4783            0.9080    0.0737   0.0391  128.006       469949   \n",
       "4784            0.0178    0.1670   0.5570  185.546       272507   \n",
       "4785            0.0000    0.4840   0.5100  193.918       165793   \n",
       "4786            0.8440    0.2990   0.1720  132.994       393383   \n",
       "\n",
       "      time_signature  genre_label  \n",
       "0                  4            1  \n",
       "1                  4            0  \n",
       "2                  4            1  \n",
       "3                  4            0  \n",
       "4                  3            1  \n",
       "...              ...          ...  \n",
       "4782               4            1  \n",
       "4783               4            1  \n",
       "4784               4            0  \n",
       "4785               4            0  \n",
       "4786               4            1  \n",
       "\n",
       "[4787 rows x 14 columns]"
      ]
     },
     "execution_count": 2,
     "metadata": {},
     "output_type": "execute_result"
    }
   ],
   "source": [
    "data"
   ]
  },
  {
   "cell_type": "code",
   "execution_count": 3,
   "metadata": {},
   "outputs": [],
   "source": [
    "#1-shuffle\n",
    "#2-split train into test and train\n",
    "#3-drop label\n",
    "#4-scale normalization\n",
    "# try scaling before splitting"
   ]
  },
  {
   "cell_type": "code",
   "execution_count": 4,
   "metadata": {},
   "outputs": [],
   "source": [
    "#data=data.sample(frac=1)\n",
    "size=int(0.7*len(data))\n",
    "train=data[:size]\n",
    "test=data[size:]"
   ]
  },
  {
   "cell_type": "code",
   "execution_count": 5,
   "metadata": {},
   "outputs": [],
   "source": [
    "xtrain=train.drop('genre_label',axis=1)\n",
    "ytrain=train['genre_label']"
   ]
  },
  {
   "cell_type": "code",
   "execution_count": 6,
   "metadata": {},
   "outputs": [
    {
     "data": {
      "text/html": [
       "<div>\n",
       "<style scoped>\n",
       "    .dataframe tbody tr th:only-of-type {\n",
       "        vertical-align: middle;\n",
       "    }\n",
       "\n",
       "    .dataframe tbody tr th {\n",
       "        vertical-align: top;\n",
       "    }\n",
       "\n",
       "    .dataframe thead th {\n",
       "        text-align: right;\n",
       "    }\n",
       "</style>\n",
       "<table border=\"1\" class=\"dataframe\">\n",
       "  <thead>\n",
       "    <tr style=\"text-align: right;\">\n",
       "      <th></th>\n",
       "      <th>danceability</th>\n",
       "      <th>energy</th>\n",
       "      <th>key</th>\n",
       "      <th>loudness</th>\n",
       "      <th>mode</th>\n",
       "      <th>speechiness</th>\n",
       "      <th>acousticness</th>\n",
       "      <th>instrumentalness</th>\n",
       "      <th>liveness</th>\n",
       "      <th>valence</th>\n",
       "      <th>tempo</th>\n",
       "      <th>duration_ms</th>\n",
       "      <th>time_signature</th>\n",
       "    </tr>\n",
       "  </thead>\n",
       "  <tbody>\n",
       "    <tr>\n",
       "      <th>0</th>\n",
       "      <td>0.702</td>\n",
       "      <td>0.701</td>\n",
       "      <td>1</td>\n",
       "      <td>-8.724</td>\n",
       "      <td>1</td>\n",
       "      <td>0.0769</td>\n",
       "      <td>0.001560</td>\n",
       "      <td>0.922000</td>\n",
       "      <td>0.1120</td>\n",
       "      <td>0.2190</td>\n",
       "      <td>128.001</td>\n",
       "      <td>408750</td>\n",
       "      <td>4</td>\n",
       "    </tr>\n",
       "    <tr>\n",
       "      <th>1</th>\n",
       "      <td>0.875</td>\n",
       "      <td>0.907</td>\n",
       "      <td>4</td>\n",
       "      <td>-11.434</td>\n",
       "      <td>0</td>\n",
       "      <td>0.1660</td>\n",
       "      <td>0.016600</td>\n",
       "      <td>0.000000</td>\n",
       "      <td>0.3600</td>\n",
       "      <td>0.7430</td>\n",
       "      <td>188.010</td>\n",
       "      <td>340133</td>\n",
       "      <td>4</td>\n",
       "    </tr>\n",
       "    <tr>\n",
       "      <th>2</th>\n",
       "      <td>0.788</td>\n",
       "      <td>0.620</td>\n",
       "      <td>1</td>\n",
       "      <td>-8.117</td>\n",
       "      <td>1</td>\n",
       "      <td>0.0522</td>\n",
       "      <td>0.000009</td>\n",
       "      <td>0.891000</td>\n",
       "      <td>0.0792</td>\n",
       "      <td>0.0554</td>\n",
       "      <td>128.008</td>\n",
       "      <td>371148</td>\n",
       "      <td>4</td>\n",
       "    </tr>\n",
       "    <tr>\n",
       "      <th>3</th>\n",
       "      <td>0.739</td>\n",
       "      <td>0.872</td>\n",
       "      <td>11</td>\n",
       "      <td>-4.059</td>\n",
       "      <td>0</td>\n",
       "      <td>0.3330</td>\n",
       "      <td>0.021700</td>\n",
       "      <td>0.000000</td>\n",
       "      <td>0.2600</td>\n",
       "      <td>0.6840</td>\n",
       "      <td>190.168</td>\n",
       "      <td>238746</td>\n",
       "      <td>4</td>\n",
       "    </tr>\n",
       "    <tr>\n",
       "      <th>4</th>\n",
       "      <td>0.796</td>\n",
       "      <td>0.922</td>\n",
       "      <td>9</td>\n",
       "      <td>-8.882</td>\n",
       "      <td>0</td>\n",
       "      <td>0.1190</td>\n",
       "      <td>0.003780</td>\n",
       "      <td>0.874000</td>\n",
       "      <td>0.1100</td>\n",
       "      <td>0.2510</td>\n",
       "      <td>130.011</td>\n",
       "      <td>341038</td>\n",
       "      <td>3</td>\n",
       "    </tr>\n",
       "    <tr>\n",
       "      <th>...</th>\n",
       "      <td>...</td>\n",
       "      <td>...</td>\n",
       "      <td>...</td>\n",
       "      <td>...</td>\n",
       "      <td>...</td>\n",
       "      <td>...</td>\n",
       "      <td>...</td>\n",
       "      <td>...</td>\n",
       "      <td>...</td>\n",
       "      <td>...</td>\n",
       "      <td>...</td>\n",
       "      <td>...</td>\n",
       "      <td>...</td>\n",
       "    </tr>\n",
       "    <tr>\n",
       "      <th>3345</th>\n",
       "      <td>0.593</td>\n",
       "      <td>0.859</td>\n",
       "      <td>9</td>\n",
       "      <td>-6.209</td>\n",
       "      <td>0</td>\n",
       "      <td>0.3110</td>\n",
       "      <td>0.199000</td>\n",
       "      <td>0.000000</td>\n",
       "      <td>0.3070</td>\n",
       "      <td>0.7850</td>\n",
       "      <td>173.816</td>\n",
       "      <td>272627</td>\n",
       "      <td>4</td>\n",
       "    </tr>\n",
       "    <tr>\n",
       "      <th>3346</th>\n",
       "      <td>0.686</td>\n",
       "      <td>0.195</td>\n",
       "      <td>5</td>\n",
       "      <td>-15.136</td>\n",
       "      <td>1</td>\n",
       "      <td>0.1510</td>\n",
       "      <td>0.841000</td>\n",
       "      <td>0.001090</td>\n",
       "      <td>0.0816</td>\n",
       "      <td>0.1290</td>\n",
       "      <td>105.990</td>\n",
       "      <td>167993</td>\n",
       "      <td>4</td>\n",
       "    </tr>\n",
       "    <tr>\n",
       "      <th>3347</th>\n",
       "      <td>0.792</td>\n",
       "      <td>0.629</td>\n",
       "      <td>11</td>\n",
       "      <td>-7.165</td>\n",
       "      <td>0</td>\n",
       "      <td>0.3350</td>\n",
       "      <td>0.054700</td>\n",
       "      <td>0.000000</td>\n",
       "      <td>0.2650</td>\n",
       "      <td>0.5880</td>\n",
       "      <td>149.167</td>\n",
       "      <td>177246</td>\n",
       "      <td>4</td>\n",
       "    </tr>\n",
       "    <tr>\n",
       "      <th>3348</th>\n",
       "      <td>0.433</td>\n",
       "      <td>0.850</td>\n",
       "      <td>10</td>\n",
       "      <td>-5.790</td>\n",
       "      <td>0</td>\n",
       "      <td>0.4160</td>\n",
       "      <td>0.325000</td>\n",
       "      <td>0.000000</td>\n",
       "      <td>0.3560</td>\n",
       "      <td>0.5800</td>\n",
       "      <td>159.956</td>\n",
       "      <td>167813</td>\n",
       "      <td>4</td>\n",
       "    </tr>\n",
       "    <tr>\n",
       "      <th>3349</th>\n",
       "      <td>0.964</td>\n",
       "      <td>0.642</td>\n",
       "      <td>1</td>\n",
       "      <td>-5.831</td>\n",
       "      <td>0</td>\n",
       "      <td>0.1090</td>\n",
       "      <td>0.054300</td>\n",
       "      <td>0.000037</td>\n",
       "      <td>0.1580</td>\n",
       "      <td>0.5470</td>\n",
       "      <td>107.006</td>\n",
       "      <td>274440</td>\n",
       "      <td>4</td>\n",
       "    </tr>\n",
       "  </tbody>\n",
       "</table>\n",
       "<p>3350 rows × 13 columns</p>\n",
       "</div>"
      ],
      "text/plain": [
       "      danceability  energy  key  loudness  mode  speechiness  acousticness  \\\n",
       "0            0.702   0.701    1    -8.724     1       0.0769      0.001560   \n",
       "1            0.875   0.907    4   -11.434     0       0.1660      0.016600   \n",
       "2            0.788   0.620    1    -8.117     1       0.0522      0.000009   \n",
       "3            0.739   0.872   11    -4.059     0       0.3330      0.021700   \n",
       "4            0.796   0.922    9    -8.882     0       0.1190      0.003780   \n",
       "...            ...     ...  ...       ...   ...          ...           ...   \n",
       "3345         0.593   0.859    9    -6.209     0       0.3110      0.199000   \n",
       "3346         0.686   0.195    5   -15.136     1       0.1510      0.841000   \n",
       "3347         0.792   0.629   11    -7.165     0       0.3350      0.054700   \n",
       "3348         0.433   0.850   10    -5.790     0       0.4160      0.325000   \n",
       "3349         0.964   0.642    1    -5.831     0       0.1090      0.054300   \n",
       "\n",
       "      instrumentalness  liveness  valence    tempo  duration_ms  \\\n",
       "0             0.922000    0.1120   0.2190  128.001       408750   \n",
       "1             0.000000    0.3600   0.7430  188.010       340133   \n",
       "2             0.891000    0.0792   0.0554  128.008       371148   \n",
       "3             0.000000    0.2600   0.6840  190.168       238746   \n",
       "4             0.874000    0.1100   0.2510  130.011       341038   \n",
       "...                ...       ...      ...      ...          ...   \n",
       "3345          0.000000    0.3070   0.7850  173.816       272627   \n",
       "3346          0.001090    0.0816   0.1290  105.990       167993   \n",
       "3347          0.000000    0.2650   0.5880  149.167       177246   \n",
       "3348          0.000000    0.3560   0.5800  159.956       167813   \n",
       "3349          0.000037    0.1580   0.5470  107.006       274440   \n",
       "\n",
       "      time_signature  \n",
       "0                  4  \n",
       "1                  4  \n",
       "2                  4  \n",
       "3                  4  \n",
       "4                  3  \n",
       "...              ...  \n",
       "3345               4  \n",
       "3346               4  \n",
       "3347               4  \n",
       "3348               4  \n",
       "3349               4  \n",
       "\n",
       "[3350 rows x 13 columns]"
      ]
     },
     "execution_count": 6,
     "metadata": {},
     "output_type": "execute_result"
    }
   ],
   "source": [
    "xtrain"
   ]
  },
  {
   "cell_type": "code",
   "execution_count": 7,
   "metadata": {},
   "outputs": [],
   "source": [
    "def scale(x):\n",
    "    return ((x-np.mean(x))/np.std(x))"
   ]
  },
  {
   "cell_type": "code",
   "execution_count": 8,
   "metadata": {},
   "outputs": [
    {
     "name": "stdout",
     "output_type": "stream",
     "text": [
      "x shape (3350, 13) y shape (3350,) w shape (1, 13)\n"
     ]
    }
   ],
   "source": [
    "x=scale(xtrain)\n",
    "x=np.array(x)\n",
    "y=np.array(ytrain)\n",
    "w=np.ones((1,xtrain.shape[1]))\n",
    "print(\"x shape\",x.shape,\"y shape\",y.shape,\"w shape\",w.shape)"
   ]
  },
  {
   "cell_type": "code",
   "execution_count": 9,
   "metadata": {},
   "outputs": [],
   "source": [
    "def hypo(w,x,b):#prediction\n",
    "    z=np.dot(w,x.T)+b#\n",
    "    p_hat=1/(1+np.exp(-z))#g(z)    \n",
    "    return p_hat"
   ]
  },
  {
   "cell_type": "code",
   "execution_count": 10,
   "metadata": {},
   "outputs": [],
   "source": [
    "def predict(p_hat,m):\n",
    "    y_pred=np.zeros((1,m))\n",
    "    for i in range(m):\n",
    "        if p_hat[0][i]>=0.5:\n",
    "            y_pred[0][i]=1\n",
    "    return y_pred # represents h(x)"
   ]
  },
  {
   "cell_type": "code",
   "execution_count": 11,
   "metadata": {},
   "outputs": [],
   "source": [
    "def error(pred,y,m):#cost\n",
    "    #costs= -np.sum(y * np.log(pred ) + (1 - y) * np.log(1 - pred )) / m\n",
    "    epsilon = 1e-5 # error happend cause log doesnt accept 0 so i add 1e-5 to 0\n",
    "    cost = -np.sum(y * np.log(pred + epsilon) + (1 - y) * np.log(1 - pred + epsilon)) / m \n",
    "    return cost"
   ]
  },
  {
   "cell_type": "code",
   "execution_count": 12,
   "metadata": {},
   "outputs": [],
   "source": [
    "def gradient(pred,y,x,m,alpha,w,b):#gradient decent\n",
    "    dw=(1/m)*np.dot((pred-y.T),x)\n",
    "    db=(1/m)*np.sum(pred-y.T)\n",
    "    w=w-alpha*(dw)\n",
    "    b=b-alpha*db\n",
    "    return b,w"
   ]
  },
  {
   "cell_type": "code",
   "execution_count": 14,
   "metadata": {},
   "outputs": [
    {
     "name": "stdout",
     "output_type": "stream",
     "text": [
      "6.485037529096109\n",
      "0.6838927336377983\n",
      "0.30585604672996985\n",
      "0.22337531504098912\n",
      "0.18900834350391382\n",
      "0.1683881605816686\n",
      "0.14776797765942346\n",
      "0.14433128050571592\n",
      "0.12371109758347071\n",
      "0.12027440042976319\n"
     ]
    }
   ],
   "source": [
    "#main\n",
    "m=len(y)\n",
    "b=1\n",
    "alpha=0.0005 #larning rate between 0 and 1 \n",
    "cost=[]\n",
    "for i in range(100000):\n",
    "    p_hat= hypo(w,x,b)\n",
    "    pred=predict(p_hat,m)\n",
    "    er=error(pred,y,m)\n",
    "    b,w=gradient(pred,y,x,m,alpha,w,b)\n",
    "    if i%10000==0:\n",
    "        print(er)\n",
    "        cost.append(er)"
   ]
  },
  {
   "cell_type": "code",
   "execution_count": 15,
   "metadata": {},
   "outputs": [
    {
     "data": {
      "image/png": "[encoded data removed]",
      "text/plain": [
       "<Figure size 432x288 with 1 Axes>"
      ]
     },
     "metadata": {
      "needs_background": "light"
     },
     "output_type": "display_data"
    }
   ],
   "source": [
    "plt.plot(cost)\n",
    "plt.ylabel('cost')\n",
    "plt.xlabel('iterations')\n",
    "plt.title('Cost reduction over time')\n",
    "plt.show()"
   ]
  },
  {
   "cell_type": "code",
   "execution_count": 16,
   "metadata": {},
   "outputs": [
    {
     "name": "stdout",
     "output_type": "stream",
     "text": [
      "[[ 0.53098335  0.85875339  0.40873912 -0.12981661  0.45887963 -0.15964714\n",
      "   0.14948687  2.0709264   0.08167229 -0.33718612 -0.32836829  1.44818616\n",
      "   0.26093031]]\n",
      "0.517766716418212\n"
     ]
    }
   ],
   "source": [
    "print(w)\n",
    "print(b)"
   ]
  },
  {
   "cell_type": "code",
   "execution_count": 17,
   "metadata": {},
   "outputs": [],
   "source": [
    "p_hat= hypo(w,x,b)\n",
    "pred=predict(p_hat,m)"
   ]
  },
  {
   "cell_type": "code",
   "execution_count": 18,
   "metadata": {},
   "outputs": [
    {
     "data": {
      "text/plain": [
       "array([[1., 0., 1., ..., 0., 0., 0.]])"
      ]
     },
     "execution_count": 18,
     "metadata": {},
     "output_type": "execute_result"
    }
   ],
   "source": [
    "pred"
   ]
  },
  {
   "cell_type": "code",
   "execution_count": 19,
   "metadata": {
    "scrolled": true
   },
   "outputs": [
    {
     "data": {
      "text/plain": [
       "array([1, 0, 1, ..., 0, 0, 0], dtype=int64)"
      ]
     },
     "execution_count": 19,
     "metadata": {},
     "output_type": "execute_result"
    }
   ],
   "source": [
    "y"
   ]
  },
  {
   "cell_type": "code",
   "execution_count": 20,
   "metadata": {},
   "outputs": [
    {
     "name": "stdout",
     "output_type": "stream",
     "text": [
      "xt (1437, 13)\n",
      "yt (1437,)\n",
      "pred_t (1, 1437)\n",
      "0.13619035001774066\n"
     ]
    }
   ],
   "source": [
    "#validation\n",
    "xt=test.drop('genre_label',axis=1)\n",
    "yt=test['genre_label']\n",
    "xt=scale(xt)\n",
    "xt=np.array(xt)\n",
    "yt=np.array(yt)\n",
    "print(\"xt\",xt.shape)\n",
    "print(\"yt\",yt.shape)\n",
    "n=len(xt)\n",
    "p_hat= hypo(w,xt,b)\n",
    "pred=predict(p_hat,n)\n",
    "print(\"pred_t\",pred.shape)\n",
    "er=error(pred,yt,n)\n",
    "print(er)"
   ]
  },
  {
   "cell_type": "code",
   "execution_count": 21,
   "metadata": {},
   "outputs": [
    {
     "name": "stdout",
     "output_type": "stream",
     "text": [
      "trainpred (1, 3350) y (3350,)\n",
      "testpred (1, 1437) yt (1437,)\n"
     ]
    }
   ],
   "source": [
    "#compute accuracy\n",
    "n=len(xt)\n",
    "p_hat= hypo(w,xt,b)\n",
    "testpred=predict(p_hat,n)\n",
    "# *****\n",
    "m=len(x)\n",
    "p_hat= hypo(w,x,b)\n",
    "trainpred=predict(p_hat,m)\n",
    "print('trainpred',trainpred.shape,'y',y.shape)\n",
    "print('testpred',testpred.shape,'yt',yt.shape)"
   ]
  },
  {
   "cell_type": "code",
   "execution_count": 22,
   "metadata": {},
   "outputs": [
    {
     "name": "stdout",
     "output_type": "stream",
     "text": [
      "Training Accuracy 0.9898507462686568\n",
      "Test Accuracy 0.988169798190675\n"
     ]
    }
   ],
   "source": [
    "from sklearn.metrics import accuracy_score\n",
    "print('Training Accuracy',accuracy_score(trainpred.T, y))\n",
    "predxt = predict(testpred,len(xt))\n",
    "print('Test Accuracy',accuracy_score(testpred.T, yt))"
   ]
  },
  {
   "cell_type": "code",
   "execution_count": 39,
   "metadata": {},
   "outputs": [
    {
     "name": "stdout",
     "output_type": "stream",
     "text": [
      "(1, 1197)\n",
      "[[0. 1. 1. ... 0. 0. 0.]]\n"
     ]
    }
   ],
   "source": [
    "#final prediction #target\n",
    "test_data=scale(test_data)\n",
    "t=np.array(test_data)\n",
    "k=len(t)\n",
    "p_hat= hypo(w,t,b)\n",
    "prediction=predict(p_hat,k)\n",
    "print(prediction.shape)\n",
    "print(prediction)\n"
   ]
  },
  {
   "cell_type": "code",
   "execution_count": 40,
   "metadata": {},
   "outputs": [
    {
     "name": "stdout",
     "output_type": "stream",
     "text": [
      "[   0    1    2 ... 1194 1195 1196]\n",
      "(1197,)\n"
     ]
    }
   ],
   "source": [
    "ids=np.array(sample['Id']) #prepre to submission\n",
    "print(ids)\n",
    "print(ids.shape)"
   ]
  },
  {
   "cell_type": "code",
   "execution_count": 41,
   "metadata": {
    "scrolled": true
   },
   "outputs": [
    {
     "name": "stdout",
     "output_type": "stream",
     "text": [
      "(1197,)\n"
     ]
    }
   ],
   "source": [
    "prediction=prediction.reshape(prediction.shape[1],)\n",
    "print(prediction.shape)"
   ]
  },
  {
   "cell_type": "code",
   "execution_count": 44,
   "metadata": {},
   "outputs": [],
   "source": [
    "e=pd.DataFrame({'Id':ids,'genre_label':prediction})\n",
    "e.to_csv('genre_class.CSV',encoding='utf-8',index=False)"
   ]
  },
  {
   "cell_type": "markdown",
   "metadata": {},
   "source": [
    "***"
   ]
  }
 ],
 "metadata": {
  "kernelspec": {
   "display_name": "Python 3",
   "language": "python",
   "name": "python3"
  },
  "language_info": {
   "codemirror_mode": {
    "name": "ipython",
    "version": 3
   },
   "file_extension": ".py",
   "mimetype": "text/x-python",
   "name": "python",
   "nbconvert_exporter": "python",
   "pygments_lexer": "ipython3",
   "version": "3.8.8"
  }
 },
 "nbformat": 4,
 "nbformat_minor": 2
}
